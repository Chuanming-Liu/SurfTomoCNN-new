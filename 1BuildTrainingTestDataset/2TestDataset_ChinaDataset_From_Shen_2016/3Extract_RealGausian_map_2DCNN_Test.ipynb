{
 "cells": [
  {
   "cell_type": "code",
   "execution_count": 13,
   "metadata": {
    "ExecuteTime": {
     "end_time": "2020-11-21T12:02:57.897134Z",
     "start_time": "2020-11-21T12:02:52.800047Z"
    }
   },
   "outputs": [
    {
     "name": "stdout",
     "output_type": "stream",
     "text": [
      "4512 59.50_139.50.txt\n"
     ]
    }
   ],
   "source": [
    "'''\n",
    "Extracting grids with both phase and group disperion measurements\n",
    "'''\n",
    "# 提取vs ph gr 共有的点\n",
    "import numpy as np\n",
    "import matplotlib.pyplot as plt\n",
    "import os\n",
    "from scipy.interpolate import interp1d\n",
    "filepath_gr = './Output/dispersion_gr/'\n",
    "filepath_ph = './Output/dispersion_ph/'\n",
    "os.system('rm -rf  ./Output/disp_combine_gaussian_map_test && mkdir ./Output/disp_combine_gaussian_map_test')\n",
    "os.system('rm -rf Figs && mkdir Figs' )\n",
    "os.system('rm -rf ./Output/disp_pg_real && mkdir ./Output/disp_pg_real')\n",
    "depth = np.array([2.5,5,10,15,20,30,40,60,80,100,120,150,180])\n",
    "depth_mark = np.array([0,5,10,15,20,30,40,60,80,100,120,150,180])\n",
    "depth = np.arange(0,150.5,0.5)\n",
    "periods = np.array([8,10,12,14,16,18,20,22,24,26,28,30,32,35,40,45,50])\n",
    "count = 0\n",
    "for lat in np.arange(20,60,0.5):\n",
    "    for lon in np.arange(70,140,0.5):\n",
    "        key = \"%.2f\"%lat + \"_\"+\"%.2f\"%lon\n",
    "        key_name = key + '.txt'\n",
    "        file_gr = filepath_gr + key_name\n",
    "        file_ph = filepath_ph + key_name\n",
    "        if os.path.exists(file_ph) and os.path.exists(file_gr):\n",
    "            temp = np.loadtxt(file_ph); freqs_p = temp[:,0]; vel_p = temp[:,1];error_p=temp[:,2]#[8-50]\n",
    "            temp = np.loadtxt(file_gr); freqs_g = temp[:,0]; vel_g = temp[:,1];error_g=temp[:,2]#[8-50]\n",
    "            if len(temp)>1:\n",
    "                count =count +1\n",
    "                # for using those data to predict dispersion curve comparing the vs from cnn\n",
    "                tpg_out=np.array([periods,vel_p,error_p,vel_g,error_g]) # Test Data\n",
    "                np.savetxt(\"./Output/disp_pg_real/\"+\"%.2f\"%lat+\"_\"+\"%.2f\"%lon+\".txt\",tpg_out.T,fmt=\"%10.5f\")\n",
    "                # those data are first used to produce gaussian map and then input into the CNN to predict 1-D Vs\n",
    "                # because we get measurement uncertainty involed here, we can do boostrap test during prediction \n",
    "                # process.\n",
    "print(count)"
   ]
  },
  {
   "cell_type": "code",
   "execution_count": 9,
   "metadata": {
    "ExecuteTime": {
     "end_time": "2020-11-21T11:54:08.736821Z",
     "start_time": "2020-11-21T11:54:08.730644Z"
    }
   },
   "outputs": [],
   "source": [
    "def gaussian_map(vel,vel_axis,radius=0.1):\n",
    "    rows  = vel_axis.shape[0]\n",
    "    cols  = vel.shape[0]\n",
    "    vel_map = np.zeros((rows,cols))\n",
    "    for i in range(cols):\n",
    "        vel_temp = vel[i]\n",
    "        x_gaussian = gaussian(vel_temp, vel_axis, r=radius)\n",
    "        vel_map[:, i] = x_gaussian\n",
    "    return vel_map\n",
    "#Note: The formula (1) in Hu et al. (2020) is wrong, the gaussian function is exp(-(a-b)^2/(2*r^2))\n",
    "def gaussian(vel,vel_axis,r=0.1):\n",
    "    x_gaussian = np.exp(-((vel_axis-vel)**2)/(2*r**2))\n",
    "    return x_gaussian"
   ]
  },
  {
   "cell_type": "code",
   "execution_count": 11,
   "metadata": {
    "ExecuteTime": {
     "end_time": "2020-11-21T11:59:54.533952Z",
     "start_time": "2020-11-21T11:59:49.529946Z"
    }
   },
   "outputs": [
    {
     "name": "stdout",
     "output_type": "stream",
     "text": [
      "4512 59.50_139.50.txt\n"
     ]
    },
    {
     "data": {
      "text/plain": [
       "<Figure size 720x288 with 0 Axes>"
      ]
     },
     "metadata": {},
     "output_type": "display_data"
    }
   ],
   "source": [
    "# or used to directly gaussian map.\n",
    "# if your data donot have uncertainty, you can directly generate gaussain map to perform CNN prediction.\n",
    "vel_axis = np.linspace(1,5,num=60);r = 0.1\n",
    "plot_flag=False;count = 0\n",
    "fig=plt.figure(1,figsize=(10,4))\n",
    "for lat in np.arange(20,60,0.5):\n",
    "    for lon in np.arange(70,140,0.5):\n",
    "        key = \"%.2f\"%lat + \"_\"+\"%.2f\"%lon\n",
    "        key_name = key + '.txt'\n",
    "        file_gr = filepath_gr + key_name\n",
    "        file_ph = filepath_ph + key_name\n",
    "        if os.path.exists(file_ph) and os.path.exists(file_gr):\n",
    "            temp = np.loadtxt(file_ph); freqs_p = temp[:,0]; vel_p = temp[:,1];error_p=temp[:,2]#[8-50]\n",
    "            temp = np.loadtxt(file_gr); freqs_g = temp[:,0]; vel_g = temp[:,1];error_g=temp[:,2]#[8-50]\n",
    "            if len(temp)>1:\n",
    "                count =count +1\n",
    "#                 r = 0.1 or error_p or error_g\n",
    "                vel_map_p= gaussian_map(vel_p,vel_axis,radius=r)\n",
    "                vel_map_g= gaussian_map(vel_g,vel_axis,radius=r)\n",
    "                name_pg = './Output/disp_combine_gaussian_map_test/c_' + \"%.2f\"%lat +\"_\"+\"%.2f\"%lon  + '.npy'\n",
    "                np.save(name_pg,np.array([vel_map_p,vel_map_g]))\n",
    "                if plot_flag:\n",
    "                    plt.subplot(1,2,1)\n",
    "                    plt.imshow(vel_map_p,aspect='auto',origin='lower',extent=[8,50,2,5])\n",
    "                    plt.ylabel('Vs(km/s)')\n",
    "                    plt.xlabel('T(s)')\n",
    "                    plt.title('Phase velocity')\n",
    "                    plt.subplot(1,2,2)\n",
    "                    plt.imshow(vel_map_g,aspect='auto',origin='lower',extent=[8,50,2,5])\n",
    "                    plt.ylabel('Vs(km/s)')\n",
    "                    plt.xlabel('T(s)')\n",
    "                    plt.title('Group velocity')\n",
    "                    plt.tight_layout()\n",
    "                    plt.pause(0.01)\n",
    "                    plt.savefig('./Figs/'+key+'.jpg')\n",
    "                    fig.clear()\n",
    "print(count)"
   ]
  },
  {
   "cell_type": "code",
   "execution_count": null,
   "metadata": {
    "collapsed": true
   },
   "outputs": [],
   "source": []
  }
 ],
 "metadata": {
  "kernelspec": {
   "display_name": "Python 3",
   "language": "python",
   "name": "python3"
  },
  "language_info": {
   "codemirror_mode": {
    "name": "ipython",
    "version": 3
   },
   "file_extension": ".py",
   "mimetype": "text/x-python",
   "name": "python",
   "nbconvert_exporter": "python",
   "pygments_lexer": "ipython3",
   "version": "3.7.8"
  },
  "toc": {
   "base_numbering": 1,
   "nav_menu": {},
   "number_sections": true,
   "sideBar": true,
   "skip_h1_title": false,
   "title_cell": "Table of Contents",
   "title_sidebar": "Contents",
   "toc_cell": false,
   "toc_position": {},
   "toc_section_display": true,
   "toc_window_display": false
  },
  "varInspector": {
   "cols": {
    "lenName": 16,
    "lenType": 16,
    "lenVar": 40
   },
   "kernels_config": {
    "python": {
     "delete_cmd_postfix": "",
     "delete_cmd_prefix": "del ",
     "library": "var_list.py",
     "varRefreshCmd": "print(var_dic_list())"
    },
    "r": {
     "delete_cmd_postfix": ") ",
     "delete_cmd_prefix": "rm(",
     "library": "var_list.r",
     "varRefreshCmd": "cat(var_dic_list()) "
    }
   },
   "types_to_exclude": [
    "module",
    "function",
    "builtin_function_or_method",
    "instance",
    "_Feature"
   ],
   "window_display": false
  }
 },
 "nbformat": 4,
 "nbformat_minor": 1
}
