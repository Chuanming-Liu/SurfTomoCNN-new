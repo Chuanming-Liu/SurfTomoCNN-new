{
 "cells": [
  {
   "cell_type": "code",
   "execution_count": 1,
   "metadata": {
    "ExecuteTime": {
     "end_time": "2020-11-21T12:08:52.311429Z",
     "start_time": "2020-11-21T12:08:51.049639Z"
    }
   },
   "outputs": [],
   "source": [
    "import numpy as np\n",
    "import os\n",
    "os.system(\"test -d Output || mkdir Output\")\n",
    "'''\n",
    "\n",
    "The input data is ../Output/disp_pg_real/, where each file contains period, ph_vel, ph_un, gr_vel, and gr_un\n",
    "\n",
    "So you can extract any period map to plot.\n",
    "'''\n",
    "periods=np.array([8,10,12,14,16,18,20,22,24,26,28,30,32,35,40,45,50])\n",
    "index=[1,6,11,14] # for 10s, 20s, 30s, 50s\n",
    "fid1=open(\"./Output/\"+str(periods[index[0]])+\"s.txt\",\"w\")\n",
    "fid2=open(\"./Output/\"+str(periods[index[1]])+\"s.txt\",\"w\")\n",
    "fid3=open(\"./Output/\"+str(periods[index[2]])+\"s.txt\",\"w\")\n",
    "fid4=open(\"./Output/\"+str(periods[index[3]])+\"s.txt\",\"w\")\n",
    "with open(\"./Filename.txt\") as f:\n",
    "    for line in f:\n",
    "        lon1,lat1,vs=line.split()\n",
    "        lon=lon1[0:-3];lat=lat1[0:-3]\n",
    "        filename=lat+\"_\"+lon+\".txt\"\n",
    "        data=np.loadtxt(\"../Output/disp_pg_real/\"+filename)\n",
    "        period,phase,phun,group,grun=data[index[0],:]\n",
    "        fid1.write(\"{} {} {} {} {} {} \\n\".format(lon,lat,phase,phun,group,grun))\n",
    "        \n",
    "        period,phase,phun,group,grun=data[index[1],:]\n",
    "        fid2.write(\"{} {} {} {} {} {} \\n\".format(lon,lat,phase,phun,group,grun))\n",
    "        \n",
    "        period,phase,phun,group,grun=data[index[2],:]\n",
    "        fid3.write(\"{} {} {} {} {} {} \\n\".format(lon,lat,phase,phun,group,grun))\n",
    "        \n",
    "        period,phase,phun,group,grun=data[index[3],:]\n",
    "        fid4.write(\"{} {} {} {} {} {} \\n\".format(lon,lat,phase,phun,group,grun))\n",
    "fid1.close()\n",
    "fid2.close()\n",
    "fid3.close()\n",
    "fid4.close()"
   ]
  },
  {
   "cell_type": "code",
   "execution_count": null,
   "metadata": {
    "collapsed": true
   },
   "outputs": [],
   "source": []
  }
 ],
 "metadata": {
  "kernelspec": {
   "display_name": "Python 3",
   "language": "python",
   "name": "python3"
  },
  "language_info": {
   "codemirror_mode": {
    "name": "ipython",
    "version": 3
   },
   "file_extension": ".py",
   "mimetype": "text/x-python",
   "name": "python",
   "nbconvert_exporter": "python",
   "pygments_lexer": "ipython3",
   "version": "3.7.8"
  },
  "toc": {
   "base_numbering": 1,
   "nav_menu": {},
   "number_sections": true,
   "sideBar": true,
   "skip_h1_title": false,
   "title_cell": "Table of Contents",
   "title_sidebar": "Contents",
   "toc_cell": false,
   "toc_position": {},
   "toc_section_display": true,
   "toc_window_display": false
  },
  "varInspector": {
   "cols": {
    "lenName": 16,
    "lenType": 16,
    "lenVar": 40
   },
   "kernels_config": {
    "python": {
     "delete_cmd_postfix": "",
     "delete_cmd_prefix": "del ",
     "library": "var_list.py",
     "varRefreshCmd": "print(var_dic_list())"
    },
    "r": {
     "delete_cmd_postfix": ") ",
     "delete_cmd_prefix": "rm(",
     "library": "var_list.r",
     "varRefreshCmd": "cat(var_dic_list()) "
    }
   },
   "types_to_exclude": [
    "module",
    "function",
    "builtin_function_or_method",
    "instance",
    "_Feature"
   ],
   "window_display": false
  }
 },
 "nbformat": 4,
 "nbformat_minor": 2
}
